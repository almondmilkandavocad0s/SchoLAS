{
 "cells": [
  {
   "cell_type": "markdown",
   "id": "62d5b998",
   "metadata": {},
   "source": [
    "# SchoLAS\n",
    "\n",
    "### Problem Statement\n",
    "SchoLAS is an LLM-based tool that will scrape scholarly sites to gather the latest litereature in the field of Learning Analytics, so analysts can query this tool to stay updated with the field. "
   ]
  },
  {
   "cell_type": "markdown",
   "id": "97437d1c",
   "metadata": {},
   "source": [
    "## Idea of the Project\n",
    "\n",
    "1. For starters, we know there is a huge body of research papers available via SoLAR's Journal of Learning Analytics. So, we will scrape the website's recent publication issue using `beautifulsoup`\n",
    "2. Then we will create the RAG pipeline to convert these papers and augment a local LLM model to ansewr questions based on the papers we downloaded. \n",
    "3. Integrate `Streamlit` on front-end for ease of use of the tool. \n"
   ]
  },
  {
   "cell_type": "markdown",
   "id": "dc4ff445",
   "metadata": {},
   "source": []
  },
  {
   "cell_type": "code",
   "execution_count": 2,
   "id": "cc61bc8a",
   "metadata": {},
   "outputs": [
    {
     "name": "stdout",
     "output_type": "stream",
     "text": [
      "Hellow World!\n"
     ]
    }
   ],
   "source": [
    "# testing python! \n",
    "\n",
    "print(\"Hellow World!\")"
   ]
  },
  {
   "cell_type": "markdown",
   "id": "744d6e3f",
   "metadata": {},
   "source": [
    "Git test. "
   ]
  }
 ],
 "metadata": {
  "kernelspec": {
   "display_name": ".venv (3.11.6)",
   "language": "python",
   "name": "python3"
  },
  "language_info": {
   "codemirror_mode": {
    "name": "ipython",
    "version": 3
   },
   "file_extension": ".py",
   "mimetype": "text/x-python",
   "name": "python",
   "nbconvert_exporter": "python",
   "pygments_lexer": "ipython3",
   "version": "3.11.6"
  }
 },
 "nbformat": 4,
 "nbformat_minor": 5
}
